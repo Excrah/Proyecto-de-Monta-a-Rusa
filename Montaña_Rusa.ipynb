{
 "cells": [
  {
   "cell_type": "markdown",
   "id": "a178c871-9761-4ae2-9bd5-f1ea45365d3e",
   "metadata": {},
   "source": [
    "### Proyecto de Montaña Rusa"
   ]
  },
  {
   "cell_type": "markdown",
   "id": "194ceaa4-5ba1-472d-baf3-2b15660b5f49",
   "metadata": {},
   "source": [
    "Una empresa de parques de atracciones está diseñando una nueva montaña\n",
    "rusa y necesita que la trayectoria de la vía sea suave y continúe en todo el recorrido.\n",
    "Para esto, solicitan que se realice un modelo matemático que utilice un método de\n",
    "trazador cúbico sujeto. Además, requieren que el análisis de la estabilidad\n",
    "estructural de la vía se haga utilizando un polinomio de mínimos cuadrados para\n",
    "ajustar los datos experimentales obtenidos de las pruebas de tensión y compresión\n",
    "del material. El diseño también debe incluir el uso de polinomios ortogonales para\n",
    "optimizar la forma de ciertos tramos de la vía y mejorar la experiencia del usuario.\n",
    "Finalmente, se necesita resolver un sistema de ecuaciones para determinar las\n",
    "fuerzas que actúan en los puntos críticos de la estructura"
   ]
  },
  {
   "cell_type": "markdown",
   "id": "7b699df1-b4bb-4a10-8a23-40371ffec35f",
   "metadata": {},
   "source": [
    "#### En lo siguiente se utilizara diferentes metodos matematicos para crear una montaña rusa que tenga buenas estructuras, entre otros para darle una buena experiencia al cliente, los metodos dichos antesriormente serian:"
   ]
  }
 ],
 "metadata": {
  "kernelspec": {
   "display_name": "Julia 1.10.4",
   "language": "julia",
   "name": "julia-1.10"
  },
  "language_info": {
   "file_extension": ".jl",
   "mimetype": "application/julia",
   "name": "julia",
   "version": "1.10.4"
  }
 },
 "nbformat": 4,
 "nbformat_minor": 5
}
